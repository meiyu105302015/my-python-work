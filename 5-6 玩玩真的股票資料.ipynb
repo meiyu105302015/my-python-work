{
 "cells": [
  {
   "cell_type": "code",
   "execution_count": 16,
   "metadata": {
    "collapsed": true
   },
   "outputs": [],
   "source": [
    "%matplotlib inline\n",
    "import numpy as np\n",
    "import matplotlib.pyplot as plt\n",
    "import pandas as pd"
   ]
  },
  {
   "cell_type": "code",
   "execution_count": 1,
   "metadata": {
    "collapsed": true
   },
   "outputs": [],
   "source": [
    "import pandas_datareader.data as web"
   ]
  },
  {
   "cell_type": "code",
   "execution_count": 2,
   "metadata": {
    "collapsed": true
   },
   "outputs": [],
   "source": [
    "df=web.DataReader(\"AAPL\",\"yahoo\",start=\"2012-9-1\",end=\"2017-8-31\")"
   ]
  },
  {
   "cell_type": "code",
   "execution_count": 3,
   "metadata": {},
   "outputs": [
    {
     "data": {
      "text/html": [
       "<div>\n",
       "<style>\n",
       "    .dataframe thead tr:only-child th {\n",
       "        text-align: right;\n",
       "    }\n",
       "\n",
       "    .dataframe thead th {\n",
       "        text-align: left;\n",
       "    }\n",
       "\n",
       "    .dataframe tbody tr th {\n",
       "        vertical-align: top;\n",
       "    }\n",
       "</style>\n",
       "<table border=\"1\" class=\"dataframe\">\n",
       "  <thead>\n",
       "    <tr style=\"text-align: right;\">\n",
       "      <th></th>\n",
       "      <th>Open</th>\n",
       "      <th>High</th>\n",
       "      <th>Low</th>\n",
       "      <th>Close</th>\n",
       "      <th>Adj Close</th>\n",
       "      <th>Volume</th>\n",
       "    </tr>\n",
       "    <tr>\n",
       "      <th>Date</th>\n",
       "      <th></th>\n",
       "      <th></th>\n",
       "      <th></th>\n",
       "      <th></th>\n",
       "      <th></th>\n",
       "      <th></th>\n",
       "    </tr>\n",
       "  </thead>\n",
       "  <tbody>\n",
       "    <tr>\n",
       "      <th>2012-08-31</th>\n",
       "      <td>95.321426</td>\n",
       "      <td>95.514282</td>\n",
       "      <td>93.892860</td>\n",
       "      <td>95.034286</td>\n",
       "      <td>85.557686</td>\n",
       "      <td>84580300</td>\n",
       "    </tr>\n",
       "    <tr>\n",
       "      <th>2012-09-04</th>\n",
       "      <td>95.108574</td>\n",
       "      <td>96.448570</td>\n",
       "      <td>94.928574</td>\n",
       "      <td>96.424286</td>\n",
       "      <td>86.809074</td>\n",
       "      <td>91973000</td>\n",
       "    </tr>\n",
       "    <tr>\n",
       "      <th>2012-09-05</th>\n",
       "      <td>96.510002</td>\n",
       "      <td>96.621429</td>\n",
       "      <td>95.657143</td>\n",
       "      <td>95.747147</td>\n",
       "      <td>86.199463</td>\n",
       "      <td>84093800</td>\n",
       "    </tr>\n",
       "    <tr>\n",
       "      <th>2012-09-06</th>\n",
       "      <td>96.167145</td>\n",
       "      <td>96.898575</td>\n",
       "      <td>95.828575</td>\n",
       "      <td>96.610001</td>\n",
       "      <td>86.976288</td>\n",
       "      <td>97799100</td>\n",
       "    </tr>\n",
       "    <tr>\n",
       "      <th>2012-09-07</th>\n",
       "      <td>96.864288</td>\n",
       "      <td>97.497147</td>\n",
       "      <td>96.538574</td>\n",
       "      <td>97.205711</td>\n",
       "      <td>87.512573</td>\n",
       "      <td>82416600</td>\n",
       "    </tr>\n",
       "  </tbody>\n",
       "</table>\n",
       "</div>"
      ],
      "text/plain": [
       "                 Open       High        Low      Close  Adj Close    Volume\n",
       "Date                                                                       \n",
       "2012-08-31  95.321426  95.514282  93.892860  95.034286  85.557686  84580300\n",
       "2012-09-04  95.108574  96.448570  94.928574  96.424286  86.809074  91973000\n",
       "2012-09-05  96.510002  96.621429  95.657143  95.747147  86.199463  84093800\n",
       "2012-09-06  96.167145  96.898575  95.828575  96.610001  86.976288  97799100\n",
       "2012-09-07  96.864288  97.497147  96.538574  97.205711  87.512573  82416600"
      ]
     },
     "execution_count": 3,
     "metadata": {},
     "output_type": "execute_result"
    }
   ],
   "source": [
    "df.head()"
   ]
  },
  {
   "cell_type": "code",
   "execution_count": 4,
   "metadata": {
    "collapsed": true
   },
   "outputs": [],
   "source": [
    "P=df['Adj Close']"
   ]
  },
  {
   "cell_type": "code",
   "execution_count": 5,
   "metadata": {},
   "outputs": [
    {
     "data": {
      "text/plain": [
       "Date\n",
       "2012-08-31    85.557686\n",
       "2012-09-04    86.809074\n",
       "2012-09-05    86.199463\n",
       "2012-09-06    86.976288\n",
       "2012-09-07    87.512573\n",
       "Name: Adj Close, dtype: float64"
      ]
     },
     "execution_count": 5,
     "metadata": {},
     "output_type": "execute_result"
    }
   ],
   "source": [
    "P.head()"
   ]
  },
  {
   "cell_type": "code",
   "execution_count": 17,
   "metadata": {},
   "outputs": [
    {
     "data": {
      "text/plain": [
       "<matplotlib.axes._subplots.AxesSubplot at 0x11b383860>"
      ]
     },
     "execution_count": 17,
     "metadata": {},
     "output_type": "execute_result"
    },
    {
     "data": {
      "image/png": "[encoded data removed]",
      "text/plain": [
       "<matplotlib.figure.Figure at 0x11163ea20>"
      ]
     },
     "metadata": {},
     "output_type": "display_data"
    }
   ],
   "source": [
    "P.plot()"
   ]
  },
  {
   "cell_type": "markdown",
   "metadata": {
    "collapsed": true
   },
   "source": [
    "## 計算報酬率"
   ]
  },
  {
   "cell_type": "code",
   "execution_count": 11,
   "metadata": {
    "collapsed": true
   },
   "outputs": [],
   "source": [
    "r=P.diff()/P"
   ]
  },
  {
   "cell_type": "code",
   "execution_count": 19,
   "metadata": {},
   "outputs": [
    {
     "data": {
      "text/plain": [
       "<matplotlib.axes._subplots.AxesSubplot at 0x11b5b7eb8>"
      ]
     },
     "execution_count": 19,
     "metadata": {},
     "output_type": "execute_result"
    },
    {
     "data": {
      "image/png": "[encoded data removed]",
      "text/plain": [
       "<matplotlib.figure.Figure at 0x11b5d6eb8>"
      ]
     },
     "metadata": {},
     "output_type": "display_data"
    }
   ],
   "source": [
    "r[-100:].plot()"
   ]
  },
  {
   "cell_type": "markdown",
   "metadata": {},
   "source": [
    "## 移動平均"
   ]
  },
  {
   "cell_type": "code",
   "execution_count": 14,
   "metadata": {},
   "outputs": [
    {
     "data": {
      "text/plain": [
       "Date\n",
       "2012-08-31           NaN\n",
       "2012-09-04           NaN\n",
       "2012-09-05           NaN\n",
       "2012-09-06           NaN\n",
       "2012-09-07           NaN\n",
       "2012-09-10           NaN\n",
       "2012-09-11           NaN\n",
       "2012-09-12           NaN\n",
       "2012-09-13           NaN\n",
       "2012-09-14           NaN\n",
       "2012-09-17           NaN\n",
       "2012-09-18           NaN\n",
       "2012-09-19           NaN\n",
       "2012-09-20           NaN\n",
       "2012-09-21           NaN\n",
       "2012-09-24           NaN\n",
       "2012-09-25           NaN\n",
       "2012-09-26           NaN\n",
       "2012-09-27           NaN\n",
       "2012-09-28     87.552710\n",
       "2012-10-01     87.515090\n",
       "2012-10-02     87.427249\n",
       "2012-10-03     87.435095\n",
       "2012-10-04     87.374196\n",
       "2012-10-05     87.195105\n",
       "2012-10-08     87.037106\n",
       "2012-10-09     86.878011\n",
       "2012-10-10     86.692296\n",
       "2012-10-11     86.339384\n",
       "2012-10-12     85.943453\n",
       "                 ...    \n",
       "2017-07-21    145.318384\n",
       "2017-07-24    145.606711\n",
       "2017-07-25    145.950123\n",
       "2017-07-26    146.432984\n",
       "2017-07-27    146.667716\n",
       "2017-07-28    146.956539\n",
       "2017-07-31    147.190277\n",
       "2017-08-01    147.515328\n",
       "2017-08-02    148.162948\n",
       "2017-08-03    148.800147\n",
       "2017-08-04    149.406081\n",
       "2017-08-07    150.088439\n",
       "2017-08-08    150.810497\n",
       "2017-08-09    151.570768\n",
       "2017-08-10    151.975713\n",
       "2017-08-11    152.425247\n",
       "2017-08-14    152.967051\n",
       "2017-08-15    153.570235\n",
       "2017-08-16    154.094386\n",
       "2017-08-17    154.498338\n",
       "2017-08-18    154.887827\n",
       "2017-08-21    155.172550\n",
       "2017-08-22    155.553055\n",
       "2017-08-23    155.907793\n",
       "2017-08-24    156.371075\n",
       "2017-08-25    156.916354\n",
       "2017-08-28    157.580058\n",
       "2017-08-29    158.249996\n",
       "2017-08-30    158.590008\n",
       "2017-08-31    159.040315\n",
       "Name: Adj Close, Length: 1258, dtype: float64"
      ]
     },
     "execution_count": 14,
     "metadata": {},
     "output_type": "execute_result"
    }
   ],
   "source": [
    "P.rolling(window=20).mean()"
   ]
  },
  {
   "cell_type": "code",
   "execution_count": 21,
   "metadata": {},
   "outputs": [
    {
     "data": {
      "text/plain": [
       "<matplotlib.axes._subplots.AxesSubplot at 0x11b7778d0>"
      ]
     },
     "execution_count": 21,
     "metadata": {},
     "output_type": "execute_result"
    },
    {
     "data": {
      "image/png": "[encoded data removed]",
      "text/plain": [
       "<matplotlib.figure.Figure at 0x11b7b5da0>"
      ]
     },
     "metadata": {},
     "output_type": "display_data"
    }
   ],
   "source": [
    "P.plot()\n",
    "P.rolling(window=20).mean().plot()\n",
    "P.rolling(window=60).mean().plot()"
   ]
  },
  {
   "cell_type": "code",
   "execution_count": 8,
   "metadata": {
    "collapsed": true
   },
   "outputs": [],
   "source": [
    "m1=np.random.randn(5,1)"
   ]
  },
  {
   "cell_type": "code",
   "execution_count": 9,
   "metadata": {
    "collapsed": true
   },
   "outputs": [],
   "source": [
    "m2=np.random.randn(5,1)"
   ]
  },
  {
   "cell_type": "code",
   "execution_count": 10,
   "metadata": {},
   "outputs": [
    {
     "data": {
      "text/plain": [
       "array([[-0.60545262],\n",
       "       [-0.83662142],\n",
       "       [ 1.90575921],\n",
       "       [-1.43535424],\n",
       "       [ 0.26292986]])"
      ]
     },
     "execution_count": 10,
     "metadata": {},
     "output_type": "execute_result"
    }
   ],
   "source": [
    "m1"
   ]
  },
  {
   "cell_type": "code",
   "execution_count": 11,
   "metadata": {},
   "outputs": [
    {
     "data": {
      "text/plain": [
       "array([[ 0.17409073],\n",
       "       [-0.84300829],\n",
       "       [-1.71244473],\n",
       "       [-1.99128707],\n",
       "       [-1.75765231]])"
      ]
     },
     "execution_count": 11,
     "metadata": {},
     "output_type": "execute_result"
    }
   ],
   "source": [
    "m2"
   ]
  },
  {
   "cell_type": "code",
   "execution_count": 13,
   "metadata": {
    "collapsed": true
   },
   "outputs": [],
   "source": [
    "m3=m1+m2"
   ]
  },
  {
   "cell_type": "code",
   "execution_count": 14,
   "metadata": {},
   "outputs": [
    {
     "data": {
      "text/plain": [
       "array([[-0.43136189],\n",
       "       [-1.67962971],\n",
       "       [ 0.19331448],\n",
       "       [-3.42664131],\n",
       "       [-1.49472246]])"
      ]
     },
     "execution_count": 14,
     "metadata": {},
     "output_type": "execute_result"
    }
   ],
   "source": [
    "m3"
   ]
  },
  {
   "cell_type": "code",
   "execution_count": 18,
   "metadata": {
    "collapsed": true
   },
   "outputs": [],
   "source": [
    "def Matrix_plus(M1, M2):  \n",
    "    if len(M1) == len(M2) and len(M1[0]) == len(M2[0]):  \n",
    "        M = [[] for i in range(len(M1))]  \n",
    "        for i in range(len(M1)):  \n",
    "            for j in range(len(M1[i])):  \n",
    "                M[i].append(M1[i][j] + M2[i][j])  \n",
    "        return M  \n",
    "    else:  \n",
    "        print = \"The two matrix must have the same dimension!\""
   ]
  },
  {
   "cell_type": "code",
   "execution_count": null,
   "metadata": {
    "collapsed": true
   },
   "outputs": [],
   "source": []
  }
 ],
 "metadata": {
  "kernelspec": {
   "display_name": "Python 3",
   "language": "python",
   "name": "python3"
  },
  "language_info": {
   "codemirror_mode": {
    "name": "ipython",
    "version": 3
   },
   "file_extension": ".py",
   "mimetype": "text/x-python",
   "name": "python",
   "nbconvert_exporter": "python",
   "pygments_lexer": "ipython3",
   "version": "3.6.2"
  }
 },
 "nbformat": 4,
 "nbformat_minor": 2
}
