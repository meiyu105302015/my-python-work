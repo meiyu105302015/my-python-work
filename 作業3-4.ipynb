{
 "cells": [
  {
   "cell_type": "markdown",
   "metadata": {},
   "source": [
    "## 猜猜樂\n",
    "從1~9重複抽樣3次，可以猜總和的單雙跟大小，總和以13為基準，比13大為大，比13小或等於13為小 "
   ]
  },
  {
   "cell_type": "code",
   "execution_count": 6,
   "metadata": {},
   "outputs": [
    {
     "name": "stdout",
     "output_type": "stream",
     "text": [
      "Populating the interactive namespace from numpy and matplotlib\n"
     ]
    }
   ],
   "source": [
    "%pylab inline \n",
    "import numpy as np"
   ]
  },
  {
   "cell_type": "code",
   "execution_count": 17,
   "metadata": {},
   "outputs": [
    {
     "name": "stdout",
     "output_type": "stream",
     "text": [
      "猜大小和單雙:小單\n",
      "第一個數字: 6\n",
      "第二個數字: 1\n",
      "第三個數字: 3\n",
      "總和為: 10\n",
      "結果是:小雙，你答錯了\n"
     ]
    }
   ],
   "source": [
    "x=input(\"猜大小和單雙:\")\n",
    "a=randint(1,10)\n",
    "b=randint(1,10)\n",
    "c=randint(1,10)\n",
    "print(\"第一個數字:\",a)\n",
    "print(\"第二個數字:\",b)\n",
    "print(\"第三個數字:\",c)\n",
    "sum=a+b+c\n",
    "print(\"總和為:\",sum)\n",
    "\n",
    "if sum>13 and (sum%2==0):\n",
    "    if x in \"大雙\":\n",
    "        print(\"答案是:大雙，你答對了\")\n",
    "    else:    \n",
    "        print(\"結果是:大雙，你答錯了\")\n",
    "elif sum>13 and (sum%2!=0):\n",
    "    if x in \"大單\":\n",
    "        print(\"答案是:大單，你答對了\")\n",
    "    else:    \n",
    "        print(\"結果是:大單，你答錯了\")\n",
    "elif sum<=13 and (sum%2==0):\n",
    "    if x in \"小雙\":\n",
    "        print(\"答案是:小雙，你答對了\")\n",
    "    else:    \n",
    "        print(\"結果是:小雙，你答錯了\")\n",
    "else:\n",
    "    if x in \"小單\":\n",
    "        print(\"答案是:小單，你答對了\")\n",
    "    else:    \n",
    "        print(\"結果是:小單，你答錯了\")"
   ]
  },
  {
   "cell_type": "code",
   "execution_count": null,
   "metadata": {
    "collapsed": true
   },
   "outputs": [],
   "source": []
  }
 ],
 "metadata": {
  "kernelspec": {
   "display_name": "Python 3",
   "language": "python",
   "name": "python3"
  },
  "language_info": {
   "codemirror_mode": {
    "name": "ipython",
    "version": 3
   },
   "file_extension": ".py",
   "mimetype": "text/x-python",
   "name": "python",
   "nbconvert_exporter": "python",
   "pygments_lexer": "ipython3",
   "version": "3.7.4"
  }
 },
 "nbformat": 4,
 "nbformat_minor": 2
}
