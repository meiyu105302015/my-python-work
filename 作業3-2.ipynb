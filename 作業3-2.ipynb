{
 "cells": [
  {
   "cell_type": "markdown",
   "metadata": {},
   "source": [
    "## 商店折扣\n",
    "任選兩件商品，第二件五折，購買滿3000再減100"
   ]
  },
  {
   "cell_type": "code",
   "execution_count": 4,
   "metadata": {},
   "outputs": [
    {
     "name": "stdout",
     "output_type": "stream",
     "text": [
      "第一件商品價格:1000\n",
      "第二件商品價格:2000\n",
      "折扣後總金額: 2400.0\n"
     ]
    }
   ],
   "source": [
    "a=input(\"第一件商品價格:\")\n",
    "b=input(\"第二件商品價格:\")\n",
    "a=int(a)\n",
    "b=int(b)\n",
    "\n",
    "if a>b and ((a+b)>=3000):\n",
    "    print(\"折扣後總金額:\",a+b*0.5-100)\n",
    "elif a>b and ((a+b)<3000):\n",
    "    print(\"折扣後總金額:\",a+b*0.5)\n",
    "elif a<b and ((a+b)>=3000):\n",
    "    print(\"折扣後總金額:\",0.5*a+b-100)\n",
    "else:\n",
    "    print(\"折扣後總金額:\",0.5*a+b)"
   ]
  },
  {
   "cell_type": "code",
   "execution_count": null,
   "metadata": {
    "collapsed": true
   },
   "outputs": [],
   "source": []
  }
 ],
 "metadata": {
  "kernelspec": {
   "display_name": "Python 3",
   "language": "python",
   "name": "python3"
  },
  "language_info": {
   "codemirror_mode": {
    "name": "ipython",
    "version": 3
   },
   "file_extension": ".py",
   "mimetype": "text/x-python",
   "name": "python",
   "nbconvert_exporter": "python",
   "pygments_lexer": "ipython3",
   "version": "3.6.2"
  }
 },
 "nbformat": 4,
 "nbformat_minor": 2
}
