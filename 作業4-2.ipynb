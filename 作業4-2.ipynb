{
 "cells": [
  {
   "cell_type": "markdown",
   "metadata": {},
   "source": [
    "## 單車計費\n",
    "摩拜單車在中國的費率為起步價(15分鐘以內):1人民幣，之後以每15分鐘:0.5人民幣"
   ]
  },
  {
   "cell_type": "code",
   "execution_count": 5,
   "metadata": {},
   "outputs": [
    {
     "name": "stdout",
     "output_type": "stream",
     "text": [
      "Populating the interactive namespace from numpy and matplotlib\n"
     ]
    }
   ],
   "source": [
    "%pylab inline\n",
    "import numpy as np"
   ]
  },
  {
   "cell_type": "code",
   "execution_count": 18,
   "metadata": {},
   "outputs": [
    {
     "name": "stdout",
     "output_type": "stream",
     "text": [
      "請輸入共騎乘多久時間(以分鐘為單位):33\n",
      "費用總共為:2.0元\n"
     ]
    }
   ],
   "source": [
    "a=input(\"請輸入共騎乘多久時間(以分鐘為單位):\")\n",
    "a=int(a)\n",
    "k=a/15\n",
    "k=int(k)\n",
    "\n",
    "if a>15:\n",
    "    print(\"費用總共為:\"+str(1+0.5*k)+\"元\")\n",
    "else:\n",
    "    print(\"費用總共為:1元\")"
   ]
  },
  {
   "cell_type": "code",
   "execution_count": null,
   "metadata": {
    "collapsed": true
   },
   "outputs": [],
   "source": []
  }
 ],
 "metadata": {
  "kernelspec": {
   "display_name": "Python 3",
   "language": "python",
   "name": "python3"
  },
  "language_info": {
   "codemirror_mode": {
    "name": "ipython",
    "version": 3
   },
   "file_extension": ".py",
   "mimetype": "text/x-python",
   "name": "python",
   "nbconvert_exporter": "python",
   "pygments_lexer": "ipython3",
   "version": "3.6.2"
  }
 },
 "nbformat": 4,
 "nbformat_minor": 2
}
