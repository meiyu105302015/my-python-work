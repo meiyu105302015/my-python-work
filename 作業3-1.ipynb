{
 "cells": [
  {
   "cell_type": "code",
   "execution_count": 1,
   "metadata": {
    "collapsed": true
   },
   "outputs": [],
   "source": [
    "import numpy as np"
   ]
  },
  {
   "cell_type": "markdown",
   "metadata": {},
   "source": [
    "## 貨幣兌換"
   ]
  },
  {
   "cell_type": "code",
   "execution_count": null,
   "metadata": {},
   "outputs": [
    {
     "name": "stdout",
     "output_type": "stream",
     "text": [
      "請輸入帶單位的貨幣金額(如20USD):10USD\n",
      "10.000000USD轉換為台幣為306.250000TWD\n",
      "請輸入帶單位的貨幣金額(如20USD):20JPY\n",
      "20.000000JPY轉換為台幣為5.548000TWD\n"
     ]
    }
   ],
   "source": [
    "L=[\"美金\",\"英鎊\",\"日圓\",\"歐元\",\"人民幣\"]\n",
    "USD_vs_TWD=30.625\n",
    "GBP_vs_TWD=36.94\n",
    "JPY_vs_TWD=0.2774\n",
    "EUR_vs_TWD=32.98\n",
    "RMB_vs_TWD=4.248\n",
    "currency_str=\"a\"\n",
    "while (currency_str != \"bye\"):\n",
    "    currency_str=input(\"請輸入帶單位的貨幣金額(如20USD):\")\n",
    "    currency_type_str = currency_str[-3:]\n",
    "    currency_num_str = currency_str[:-3] #num為number的縮寫\n",
    "    currency_num = eval(currency_num_str)\n",
    "    if currency_type_str == \"USD\":\n",
    "        USD_num = currency_num * USD_vs_TWD\n",
    "        print(\"%fUSD轉換為台幣為%fTWD\" %(currency_num, USD_num))\n",
    "    elif currency_type_str == 'GBP':\n",
    "        GBP_num = currency_num * GBP_vs_TWD\n",
    "        print(\"%fGBP轉換為台幣為%fTWD\" %(currency_num, GBP_num))\n",
    "    elif currency_type_str == 'JPY':\n",
    "        JPY_num = currency_num * JPY_vs_TWD\n",
    "        print(\"%fJPY轉換為台幣為%fTWD\" %(currency_num, JPY_num))\n",
    "    elif currency_type_str == 'EUR':\n",
    "        EUR_num = currency_num * EUR_vs_TWD\n",
    "        print(\"%fEUR轉換為台幣為%fTWD\" %(currency_num, EUR_num))\n",
    "    elif currency_type_str == 'RMB':\n",
    "        RMB_num = currency_num * RMB_vs_TWD\n",
    "        print(\"%fRMB轉換為台幣為%fTWD\" %(currency_num, RMB_num))\n",
    "    else:\n",
    "        print(\"不好意思,本銀行不提供該貨幣兌換\")"
   ]
  },
  {
   "cell_type": "code",
   "execution_count": null,
   "metadata": {
    "collapsed": true
   },
   "outputs": [],
   "source": []
  }
 ],
 "metadata": {
  "kernelspec": {
   "display_name": "Python 3",
   "language": "python",
   "name": "python3"
  },
  "language_info": {
   "codemirror_mode": {
    "name": "ipython",
    "version": 3
   },
   "file_extension": ".py",
   "mimetype": "text/x-python",
   "name": "python",
   "nbconvert_exporter": "python",
   "pygments_lexer": "ipython3",
   "version": "3.6.2"
  }
 },
 "nbformat": 4,
 "nbformat_minor": 2
}
