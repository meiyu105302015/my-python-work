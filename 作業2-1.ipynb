{
 "cells": [
  {
   "cell_type": "code",
   "execution_count": 1,
   "metadata": {},
   "outputs": [
    {
     "name": "stdout",
     "output_type": "stream",
     "text": [
      "今天過得還好嗎\n",
      ">>今天心情很不好\n",
      "怎麼了 希望你每天都能開心度過\n",
      ">>備審準備到快崩潰了\n",
      "拍拍 總有一天會否極泰來的\n",
      ">>還跟別人吵架了\n",
      "拍拍\n",
      ">>不過後來心情有比較開心\n",
      "分享一下開心的事吧\n",
      ">>因為忙完這些事情就可以出去玩了\n",
      "再忙也要找時間休息\n",
      ">>bye\n",
      "拍拍\n"
     ]
    }
   ],
   "source": [
    "msg=\"a\"\n",
    "print(\"今天過得還好嗎\")\n",
    "while(msg!=\"bye\"):\n",
    "    msg=input(\">>\")\n",
    "    if \"不好\" in msg:\n",
    "        print(\"怎麼了 希望你每天都能開心度過\")\n",
    "    elif \"崩潰\" in msg:\n",
    "        print(\"拍拍 總有一天會否極泰來的\")\n",
    "    elif \"開心\" in msg:\n",
    "        print(\"分享一下開心的事吧\")\n",
    "    elif \"忙\" in msg:\n",
    "        print(\"再忙也要找時間休息\")\n",
    "    else:\n",
    "        print(\"拍拍\")"
   ]
  },
  {
   "cell_type": "code",
   "execution_count": null,
   "metadata": {
    "collapsed": true
   },
   "outputs": [],
   "source": []
  }
 ],
 "metadata": {
  "kernelspec": {
   "display_name": "Python 3",
   "language": "python",
   "name": "python3"
  },
  "language_info": {
   "codemirror_mode": {
    "name": "ipython",
    "version": 3
   },
   "file_extension": ".py",
   "mimetype": "text/x-python",
   "name": "python",
   "nbconvert_exporter": "python",
   "pygments_lexer": "ipython3",
   "version": "3.6.2"
  }
 },
 "nbformat": 4,
 "nbformat_minor": 2
}
