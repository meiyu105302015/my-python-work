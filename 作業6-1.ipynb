{
 "cells": [
  {
   "cell_type": "markdown",
   "metadata": {},
   "source": [
    "## 撲克牌比大小"
   ]
  },
  {
   "cell_type": "code",
   "execution_count": 1,
   "metadata": {
    "collapsed": true
   },
   "outputs": [],
   "source": [
    "%matplotlib inline\n",
    "\n",
    "import numpy as np\n",
    "import matplotlib.pyplot as plt\n",
    "import pandas as pd"
   ]
  },
  {
   "cell_type": "code",
   "execution_count": 9,
   "metadata": {
    "collapsed": true
   },
   "outputs": [],
   "source": [
    "class Card:    \n",
    "    \n",
    "    SUITS=[\"♣\",\"♦\",\"♥\",\"♠\"]\n",
    "    RANKS=[\"3\",\"4\",\"5\",\"6\",\"7\",\"8\",\"9\",\"10\",\"J\",\"Q\",\"K\",\"A\",\"2\"]\n",
    "    \n",
    "    def __init__(self,s,r):\n",
    "        self.suit=s\n",
    "        self.rank=r\n",
    "        \n",
    "    def __repr__(self):    \n",
    "        thecard=self.SUITS[self.suit]+self.RANKS[self.rank]  \n",
    "        return thecard"
   ]
  },
  {
   "cell_type": "code",
   "execution_count": 15,
   "metadata": {},
   "outputs": [
    {
     "name": "stdout",
     "output_type": "stream",
     "text": [
      "撲克牌比大小\n",
      "Player1:♥K\n",
      "Player2:♦4\n",
      "贏家: Player1\n"
     ]
    }
   ],
   "source": [
    "a=random.randint(0,3)\n",
    "b=random.randint(0,12)\n",
    "Card(a,b)\n",
    "c=random.randint(0,3)\n",
    "d=random.randint(0,12)\n",
    "Card(c,d)\n",
    "print(\"撲克牌比大小\")\n",
    "print(\"Player1:\"+str(Card(a,b)))\n",
    "print(\"Player2:\"+str(Card(c,d)))\n",
    "if b == d :\n",
    "    if c > a:\n",
    "        print(\"贏家: Player2\")\n",
    "    elif c < a:\n",
    "        print(\"贏家: Player1\")\n",
    "    else:\n",
    "        print(\"雙方平手\")\n",
    "elif b > d :\n",
    "    print(\"贏家: Player1\")\n",
    "else :\n",
    "    print(\"贏家: Player2\")"
   ]
  },
  {
   "cell_type": "code",
   "execution_count": null,
   "metadata": {
    "collapsed": true
   },
   "outputs": [],
   "source": []
  }
 ],
 "metadata": {
  "kernelspec": {
   "display_name": "Python 3",
   "language": "python",
   "name": "python3"
  },
  "language_info": {
   "codemirror_mode": {
    "name": "ipython",
    "version": 3
   },
   "file_extension": ".py",
   "mimetype": "text/x-python",
   "name": "python",
   "nbconvert_exporter": "python",
   "pygments_lexer": "ipython3",
   "version": "3.6.2"
  }
 },
 "nbformat": 4,
 "nbformat_minor": 2
}
