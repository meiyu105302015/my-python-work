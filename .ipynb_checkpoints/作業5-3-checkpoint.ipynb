{
 "cells": [
  {
   "cell_type": "code",
   "execution_count": 2,
   "metadata": {},
   "outputs": [
    {
     "name": "stdout",
     "output_type": "stream",
     "text": [
      "Populating the interactive namespace from numpy and matplotlib\n"
     ]
    }
   ],
   "source": [
    "%pylab inline\n",
    "\n",
    "import numpy as np\n",
    "import matplotlib.pyplot as plt\n",
    "import pandas as pd"
   ]
  },
  {
   "cell_type": "markdown",
   "metadata": {},
   "source": [
    "## 終極密碼"
   ]
  },
  {
   "cell_type": "code",
   "execution_count": 3,
   "metadata": {},
   "outputs": [
    {
     "name": "stdout",
     "output_type": "stream",
     "text": [
      "密碼介於 1-100:>>\n",
      "50\n",
      "密碼介於 1-50:>>\n",
      "30\n",
      "密碼介於 1-30:>>\n",
      "20\n",
      "密碼介於 20-30:>>\n",
      "25\n",
      "密碼介於 20-25:>>\n",
      "23\n",
      "密碼介於 20-23:>>\n",
      "21\n",
      "密碼介於 21-23:>>\n",
      "22\n",
      "答對了！\n"
     ]
    }
   ],
   "source": [
    "lowest = 1\n",
    "highest = 100\n",
    "answer = randint(lowest, highest)\n",
    " \n",
    "while True:\n",
    "    guess = input('密碼介於 ' + str(lowest) + '-' + str(highest) + ':>>\\n')\n",
    "    guess = int(guess)  \n",
    "    if guess <= lowest or guess >= highest:\n",
    "        print('請輸入 ' + str(lowest) + '-' + str(highest) + ' 之間的整數\\n')\n",
    "        continue\n",
    "    if guess < answer:\n",
    "        lowest = guess\n",
    "    elif guess > answer:\n",
    "        highest = guess\n",
    "    else :\n",
    "        print('答對了！')\n",
    "        break  "
   ]
  },
  {
   "cell_type": "code",
   "execution_count": null,
   "metadata": {
    "collapsed": true
   },
   "outputs": [],
   "source": []
  }
 ],
 "metadata": {
  "kernelspec": {
   "display_name": "Python 3",
   "language": "python",
   "name": "python3"
  },
  "language_info": {
   "codemirror_mode": {
    "name": "ipython",
    "version": 3
   },
   "file_extension": ".py",
   "mimetype": "text/x-python",
   "name": "python",
   "nbconvert_exporter": "python",
   "pygments_lexer": "ipython3",
   "version": "3.7.4"
  }
 },
 "nbformat": 4,
 "nbformat_minor": 2
}
