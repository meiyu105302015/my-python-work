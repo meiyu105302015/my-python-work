{
 "cells": [
  {
   "cell_type": "markdown",
   "metadata": {},
   "source": [
    "### 貨幣兌換\n",
    "* 動機：畢旅要去韓國，目前想換韓圜，因此特別注意匯率\n",
    "* 匯率選用台銀12/31公告匯率"
   ]
  },
  {
   "cell_type": "code",
   "execution_count": 1,
   "metadata": {},
   "outputs": [],
   "source": [
    "%matplotlib inline\n",
    "import numpy as np\n",
    "import matplotlib.pyplot as plt\n",
    "from ipywidgets import interact"
   ]
  },
  {
   "cell_type": "code",
   "execution_count": null,
   "metadata": {},
   "outputs": [
    {
     "name": "stdout",
     "output_type": "stream",
     "text": [
      "請輸入帶單位的貨幣金額(如20USD):10000KRW\n",
      "10000.00KRW轉換為台幣為281.20TWD\n",
      "請輸入帶單位的貨幣金額(如20USD):30USD\n",
      "30.00USD轉換為台幣為907.50TWD\n",
      "請輸入帶單位的貨幣金額(如20USD):200EUR\n",
      "200.00EUR轉換為台幣為6822.00TWD\n",
      "請輸入帶單位的貨幣金額(如20USD):20GBP\n",
      "不好意思,本銀行不提供該貨幣兌換\n"
     ]
    }
   ],
   "source": [
    "L=[\"美金\",\"韓圜\",\"日圓\",\"歐元\",\"人民幣\"]\n",
    "USD_vs_TWD=30.25\n",
    "KRW_vs_TWD=0.02812\n",
    "JPY_vs_TWD=0.2795\n",
    "EUR_vs_TWD=34.11\n",
    "RMB_vs_TWD=4.37\n",
    "\n",
    "currency_str=\"a\"\n",
    "while (currency_str != \"bye\"):\n",
    "    currency_str=input(\"請輸入帶單位的貨幣金額(如20USD):\")\n",
    "    currency_type_str = currency_str[-3:]\n",
    "    currency_num_str = currency_str[:-3] #num為number的縮寫\n",
    "    currency_num = eval(currency_num_str)\n",
    "    if currency_type_str == \"USD\":\n",
    "        USD_num = currency_num * USD_vs_TWD\n",
    "        print(\"%.2fUSD轉換為台幣為%.2fTWD\" %(currency_num, USD_num))\n",
    "    elif currency_type_str == 'KRW':\n",
    "        KRW_num = currency_num * KRW_vs_TWD\n",
    "        print(\"%.2fKRW轉換為台幣為%.2fTWD\" %(currency_num, KRW_num))\n",
    "    elif currency_type_str == 'JPY':\n",
    "        JPY_num = currency_num * JPY_vs_TWD\n",
    "        print(\"%.2fJPY轉換為台幣為%.2fTWD\" %(currency_num, JPY_num))\n",
    "    elif currency_type_str == 'EUR':\n",
    "        EUR_num = currency_num * EUR_vs_TWD\n",
    "        print(\"%.2fEUR轉換為台幣為%.2fTWD\" %(currency_num, EUR_num))\n",
    "    elif currency_type_str == 'RMB':\n",
    "        RMB_num = currency_num * RMB_vs_TWD\n",
    "        print(\"%.2fRMB轉換為台幣為%.2fTWD\" %(currency_num, RMB_num))\n",
    "    else:\n",
    "        print(\"不好意思,本銀行不提供該貨幣兌換\")"
   ]
  },
  {
   "cell_type": "code",
   "execution_count": null,
   "metadata": {},
   "outputs": [],
   "source": []
  }
 ],
 "metadata": {
  "kernelspec": {
   "display_name": "Python 3",
   "language": "python",
   "name": "python3"
  },
  "language_info": {
   "codemirror_mode": {
    "name": "ipython",
    "version": 3
   },
   "file_extension": ".py",
   "mimetype": "text/x-python",
   "name": "python",
   "nbconvert_exporter": "python",
   "pygments_lexer": "ipython3",
   "version": "3.7.4"
  }
 },
 "nbformat": 4,
 "nbformat_minor": 2
}
