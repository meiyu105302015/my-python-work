{
 "cells": [
  {
   "cell_type": "code",
   "execution_count": 1,
   "metadata": {
    "collapsed": true
   },
   "outputs": [],
   "source": [
    "%matplotlib inline\n",
    "\n",
    "import numpy as np\n",
    "import pandas as pd\n",
    "import matplotlib.pyplot as plt"
   ]
  },
  {
   "cell_type": "markdown",
   "metadata": {},
   "source": [
    "## 搭電梯\n",
    "讓程式模擬一台電梯，乘客會輸入他想去的樓層，電梯則帶乘客去輸入的樓層。電梯升降時，會逐一顯示經過的樓層。"
   ]
  },
  {
   "cell_type": "markdown",
   "metadata": {},
   "source": [
    "### 流程\n",
    "1. 顯示目前樓層（從 5 樓開始）\n",
    "2. 問乘客要去哪一樓（只能輸入數字 1-7 ，且不能輸入目前樓層）\n",
    "3. 根據目標樓層和目前樓層去判斷，顯示「電梯上樓/下樓」\n",
    "4. 電梯升降時，每隔 0.5 秒顯示不同樓層（目前、目標樓層也要顯示）\n",
    "5. 抵達後更新目前樓層，並等待下一位乘客（即重複執行以上流程）"
   ]
  },
  {
   "cell_type": "code",
   "execution_count": null,
   "metadata": {},
   "outputs": [
    {
     "name": "stdout",
     "output_type": "stream",
     "text": [
      "您現在在 5 樓。請問要去哪一樓？\n",
      ">>3\n",
      "電梯下樓\n",
      "5\n",
      "4\n",
      "3\n",
      "您現在在 3 樓。請問要去哪一樓？\n",
      ">>1\n",
      "電梯下樓\n",
      "3\n",
      "2\n",
      "1\n",
      "您現在在 1 樓。請問要去哪一樓？\n",
      ">>7\n",
      "電梯上樓\n",
      "1\n",
      "2\n",
      "3\n",
      "4\n",
      "5\n",
      "6\n",
      "7\n"
     ]
    }
   ],
   "source": [
    "from time import sleep\n",
    " \n",
    "current_floor = 5\n",
    " \n",
    "while True:\n",
    "    target_floor = input('您現在在 ' + str(current_floor) + ' 樓。請問要去哪一樓？\\n>>')\n",
    "    try:\n",
    "        target_floor = int(target_floor)\n",
    "    except ValueError:\n",
    "        print('格式錯誤，請輸入數字\\n')\n",
    "        continue\n",
    "    if target_floor < 1 or target_floor > 7:\n",
    "        print('請輸入介於 1-7 的整數\\n')\n",
    "        continue\n",
    "    \n",
    "    if target_floor == current_floor:\n",
    "        continue\n",
    "    \n",
    "    elif target_floor < current_floor:\n",
    "        print('電梯下樓')\n",
    "        while target_floor < current_floor:\n",
    "            print(current_floor)\n",
    "            current_floor = current_floor - 1\n",
    "        print(current_floor)\n",
    "    \n",
    "    else:\n",
    "        print('電梯上樓')\n",
    "        while target_floor > current_floor:\n",
    "            print(current_floor)\n",
    "            current_floor = current_floor + 1\n",
    "        print(current_floor)"
   ]
  },
  {
   "cell_type": "code",
   "execution_count": null,
   "metadata": {
    "collapsed": true
   },
   "outputs": [],
   "source": []
  }
 ],
 "metadata": {
  "kernelspec": {
   "display_name": "Python 3",
   "language": "python",
   "name": "python3"
  },
  "language_info": {
   "codemirror_mode": {
    "name": "ipython",
    "version": 3
   },
   "file_extension": ".py",
   "mimetype": "text/x-python",
   "name": "python",
   "nbconvert_exporter": "python",
   "pygments_lexer": "ipython3",
   "version": "3.7.4"
  }
 },
 "nbformat": 4,
 "nbformat_minor": 2
}
