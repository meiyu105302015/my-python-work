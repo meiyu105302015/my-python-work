{
 "cells": [
  {
   "cell_type": "markdown",
   "metadata": {
    "collapsed": true
   },
   "source": [
    "## 計算日期＆提醒重要日子"
   ]
  },
  {
   "cell_type": "code",
   "execution_count": 3,
   "metadata": {},
   "outputs": [
    {
     "name": "stdout",
     "output_type": "stream",
     "text": [
      "距離聖誕節還剩下78天\n"
     ]
    }
   ],
   "source": [
    "import time\n",
    "import datetime\n",
    "today=datetime.date.today()\n",
    "Xmas_day=datetime.date(2019,12,25)\n",
    "result1=Xmas_day-today\n",
    "print (\"距離聖誕節還剩下\"+str(result1.days)+\"天\")"
   ]
  },
  {
   "cell_type": "code",
   "execution_count": 4,
   "metadata": {},
   "outputs": [
    {
     "name": "stdout",
     "output_type": "stream",
     "text": [
      "距離初次見面已過40天\n"
     ]
    }
   ],
   "source": [
    "first_day=datetime.date(2019,8,29)\n",
    "result2=today-first_day \n",
    "print(\"距離初次見面已過\"+str(result2.days)+\"天\")"
   ]
  },
  {
   "cell_type": "code",
   "execution_count": null,
   "metadata": {
    "collapsed": true
   },
   "outputs": [],
   "source": []
  }
 ],
 "metadata": {
  "kernelspec": {
   "display_name": "Python 3",
   "language": "python",
   "name": "python3"
  },
  "language_info": {
   "codemirror_mode": {
    "name": "ipython",
    "version": 3
   },
   "file_extension": ".py",
   "mimetype": "text/x-python",
   "name": "python",
   "nbconvert_exporter": "python",
   "pygments_lexer": "ipython3",
   "version": "3.7.4"
  }
 },
 "nbformat": 4,
 "nbformat_minor": 2
}
