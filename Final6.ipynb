{
 "cells": [
  {
   "cell_type": "markdown",
   "metadata": {},
   "source": [
    "## 10點半"
   ]
  },
  {
   "cell_type": "code",
   "execution_count": 1,
   "metadata": {},
   "outputs": [],
   "source": [
    "%matplotlib inline\n",
    "\n",
    "import numpy as np\n",
    "import matplotlib.pyplot as plt\n",
    "import pandas as pd\n",
    "import random"
   ]
  },
  {
   "cell_type": "code",
   "execution_count": 2,
   "metadata": {},
   "outputs": [],
   "source": [
    "class Card:    \n",
    "    \n",
    "    SUITS=[\"♠\",\"♥\",\"♣\",\"♦\"]\n",
    "    RANKS=[\"A\",\"2\",\"3\",\"4\",\"5\",\"6\",\"7\",\"8\",\"9\",\"10\",\"J\",\"Q\",\"K\"]\n",
    "    \n",
    "    def __init__(self,s,r):\n",
    "        self.suit=s\n",
    "        self.rank=r\n",
    "        \n",
    "    def __repr__(self):     \n",
    "        thecard=self.SUITS[self.suit]+self.RANKS[self.rank]  \n",
    "        return thecard"
   ]
  },
  {
   "cell_type": "code",
   "execution_count": 3,
   "metadata": {},
   "outputs": [
    {
     "name": "stdout",
     "output_type": "stream",
     "text": [
      "玩家要不要牌？(Y/N)Y\n",
      "抽出的牌是♣5 玩家分數為5\n",
      "玩家要不要牌？(Y/N)Y\n",
      "抽出的牌是♠4 玩家分數為9\n",
      "玩家要不要牌？(Y/N)N\n",
      "玩家總分為9\n",
      "莊家要不要牌？(Y/N)Y\n",
      "抽出的牌是♥J 莊家分數為0.5\n",
      "莊家要不要牌？(Y/N)Y\n",
      "抽出的牌是♦8 莊家分數為8.5\n",
      "莊家要不要牌？(Y/N)Y\n",
      "抽出的牌是♦A 莊家分數為9.5\n",
      "莊家要不要牌？(Y/N)N\n",
      "總分為9.5\n",
      "莊家獲勝!!!\n"
     ]
    }
   ],
   "source": [
    "sum1=0\n",
    "sum2=0\n",
    "\n",
    "while sum1 >=0:\n",
    "    if 0<=sum1<=10.5:\n",
    "        x=input(\"玩家要不要牌？(Y/N)\")\n",
    "        if \"Y\" in x:\n",
    "            a=random.randint(0,3)\n",
    "            b=random.randint(0,12)\n",
    "            card1=Card(a,b)\n",
    "            if b in [10,11,12]:\n",
    "                sum1 += 0.5\n",
    "                print(\"抽出的牌是\"+str(Card(a,b))+\" 玩家分數為\"+str(sum1))\n",
    "            elif b == 0:\n",
    "                sum1 += 1\n",
    "                print(\"抽出的牌是\"+str(Card(a,b))+\" 玩家分數為\"+str(sum1))\n",
    "            else:\n",
    "                number1 = int(b)\n",
    "                sum1 += (number1+1)\n",
    "                print(\"抽出的牌是\"+str(Card(a,b))+\" 玩家分數為\"+str(sum1))\n",
    "        elif \"N\" in x:\n",
    "            print(\"玩家總分為\"+str(sum1))\n",
    "            break\n",
    "    else:\n",
    "        print(\"玩家爆了!!\\n莊家獲勝!!!\")\n",
    "        break\n",
    "        \n",
    "while sum2 >=0:\n",
    "    if 0<=sum2<=10.5:\n",
    "        z=input(\"莊家要不要牌？(Y/N)\")\n",
    "        if \"Y\" in z:\n",
    "            c=random.randint(0,3)\n",
    "            d=random.randint(0,12)\n",
    "            card=Card(c,d)\n",
    "            if d in [10,11,12]:\n",
    "                sum2 += 0.5\n",
    "                print(\"抽出的牌是\"+str(Card(c,d))+\" 莊家分數為\"+str(sum2))\n",
    "            elif d == 0:\n",
    "                sum2 += 1\n",
    "                print(\"抽出的牌是\"+str(Card(c,d))+\" 莊家分數為\"+str(sum2))\n",
    "            else:\n",
    "                number2 = int(d)\n",
    "                sum2 += (number2+1)\n",
    "                print(\"抽出的牌是\"+str(Card(c,d))+\" 莊家分數為\"+str(sum2))\n",
    "        elif \"N\" in z:\n",
    "            print(\"總分為\"+str(sum2))\n",
    "            if sum1>sum2:\n",
    "                print(\"玩家獲勝!!!\")\n",
    "                break\n",
    "            else :\n",
    "                print(\"莊家獲勝!!!\")\n",
    "                break\n",
    "    else:\n",
    "        print(\"莊家爆了!!\\n玩家獲勝\")\n",
    "        break"
   ]
  },
  {
   "cell_type": "code",
   "execution_count": null,
   "metadata": {},
   "outputs": [],
   "source": []
  }
 ],
 "metadata": {
  "kernelspec": {
   "display_name": "Python 3",
   "language": "python",
   "name": "python3"
  },
  "language_info": {
   "codemirror_mode": {
    "name": "ipython",
    "version": 3
   },
   "file_extension": ".py",
   "mimetype": "text/x-python",
   "name": "python",
   "nbconvert_exporter": "python",
   "pygments_lexer": "ipython3",
   "version": "3.7.4"
  }
 },
 "nbformat": 4,
 "nbformat_minor": 2
}
