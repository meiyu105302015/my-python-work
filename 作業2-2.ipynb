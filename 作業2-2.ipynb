{
 "cells": [
  {
   "cell_type": "markdown",
   "metadata": {
    "collapsed": true
   },
   "source": [
    "## 高鐵票價\n",
    "國慶連假忘記搶票，只好買全票QQ"
   ]
  },
  {
   "cell_type": "code",
   "execution_count": 9,
   "metadata": {
    "collapsed": true
   },
   "outputs": [],
   "source": [
    "from ipywidgets import interact"
   ]
  },
  {
   "cell_type": "code",
   "execution_count": 12,
   "metadata": {
    "collapsed": true
   },
   "outputs": [],
   "source": [
    "def f(起訖車站):\n",
    "    print(起訖車站)"
   ]
  },
  {
   "cell_type": "code",
   "execution_count": 13,
   "metadata": {},
   "outputs": [
    {
     "data": {
      "application/vnd.jupyter.widget-view+json": {
       "model_id": "5596d2981876419ebf4275c530794944",
       "version_major": 2,
       "version_minor": 0
      },
      "text/plain": [
       "A Jupyter Widget"
      ]
     },
     "metadata": {},
     "output_type": "display_data"
    },
    {
     "data": {
      "text/plain": [
       "<function __main__.f>"
      ]
     },
     "execution_count": 13,
     "metadata": {},
     "output_type": "execute_result"
    }
   ],
   "source": [
    "interact (f,起訖車站=dict(台北到板橋=(\"票價：40元\"),\n",
    "                     台北到桃園=(\"票價：160元\"),\n",
    "                     台北到新竹=(\"票價：290元\"),\n",
    "                     台北到苗栗=(\"票價：430元\"),\n",
    "                     台北到台中=(\"票價：700元\"),\n",
    "                     台北到彰化=(\"票價：820元\"),\n",
    "                     台北到雲林=(\"票價：930元\"),\n",
    "                     台北到嘉義=(\"票價：1080元\"),\n",
    "                     台北到台南=(\"票價：1350元\"),\n",
    "                     台北到左營=(\"票價：1490元\")))"
   ]
  },
  {
   "cell_type": "code",
   "execution_count": null,
   "metadata": {
    "collapsed": true
   },
   "outputs": [],
   "source": []
  }
 ],
 "metadata": {
  "kernelspec": {
   "display_name": "Python 3",
   "language": "python",
   "name": "python3"
  },
  "language_info": {
   "codemirror_mode": {
    "name": "ipython",
    "version": 3
   },
   "file_extension": ".py",
   "mimetype": "text/x-python",
   "name": "python",
   "nbconvert_exporter": "python",
   "pygments_lexer": "ipython3",
   "version": "3.6.2"
  }
 },
 "nbformat": 4,
 "nbformat_minor": 2
}
