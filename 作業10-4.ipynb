{
 "cells": [
  {
   "cell_type": "code",
   "execution_count": 1,
   "metadata": {
    "collapsed": true
   },
   "outputs": [],
   "source": [
    "%matplotlib inline\n",
    "\n",
    "import numpy as np\n",
    "import matplotlib.pyplot as plt\n",
    "import pandas as pd"
   ]
  },
  {
   "cell_type": "markdown",
   "metadata": {},
   "source": [
    "## 迴文数\n",
    "迴文數是設n唯一任意自然數，若將n的各個數字反向排列所得自然數n1與n相等，則稱n為一迴文數，例如：12321就是迴文數。"
   ]
  },
  {
   "cell_type": "code",
   "execution_count": 2,
   "metadata": {},
   "outputs": [
    {
     "name": "stdout",
     "output_type": "stream",
     "text": [
      "請輸入一個數字：12321\n",
      "您所輸入的數字是迴文數\n",
      "請輸入一個數字：123456787654321\n",
      "您所輸入的數字是迴文數\n",
      "請輸入一個數字：12357658745\n",
      "您所輸入的數字不是迴文數\n",
      "請輸入一個數字：9876789\n",
      "您所輸入的數字是迴文數\n"
     ]
    }
   ],
   "source": [
    "x=1\n",
    "while x <5:\n",
    "    s = input('請輸入一個數字：')\n",
    "    a = reversed(list(s))\n",
    "    x +=1\n",
    "    if list(a) == list(s):\n",
    "        print('您所輸入的數字是迴文數')\n",
    "    else:\n",
    "        print('您所輸入的數字不是迴文數')"
   ]
  },
  {
   "cell_type": "code",
   "execution_count": null,
   "metadata": {
    "collapsed": true
   },
   "outputs": [],
   "source": []
  }
 ],
 "metadata": {
  "kernelspec": {
   "display_name": "Python 3",
   "language": "python",
   "name": "python3"
  },
  "language_info": {
   "codemirror_mode": {
    "name": "ipython",
    "version": 3
   },
   "file_extension": ".py",
   "mimetype": "text/x-python",
   "name": "python",
   "nbconvert_exporter": "python",
   "pygments_lexer": "ipython3",
   "version": "3.6.2"
  }
 },
 "nbformat": 4,
 "nbformat_minor": 2
}
