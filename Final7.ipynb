{
 "cells": [
  {
   "cell_type": "markdown",
   "metadata": {},
   "source": [
    "## 計算存續期間 (Duration)¶\n",
    "存續期間定義：用來衡量市場利率的變化對債券價格的敏感度，一檔債券的存續期間愈長，就代表這檔債券對利率比較敏感，也就是只要市場利率稍有變化，就會造成債券價格較大的波動。存續期間較短，當然對市場利率的敏感度就會比較低。"
   ]
  },
  {
   "cell_type": "markdown",
   "metadata": {},
   "source": [
    "計算方式如下：\n",
    "\n",
    "$$W_t=\\frac {CF_t}{P(1+i)^t}$$\n",
    "$$D=\\sum_{t=1}^T tW_t$$\n",
    "\n",
    "* D:存續期間\n",
    "* T:到期期限\n",
    "* CF_t:現金流\n",
    "* i:殖利率\n",
    "* P:本金"
   ]
  },
  {
   "cell_type": "code",
   "execution_count": 1,
   "metadata": {},
   "outputs": [],
   "source": [
    "%matplotlib inline\n",
    "\n",
    "import numpy as np\n",
    "import matplotlib.pyplot as plt\n",
    "import pandas as pd"
   ]
  },
  {
   "cell_type": "code",
   "execution_count": 2,
   "metadata": {},
   "outputs": [
    {
     "name": "stdout",
     "output_type": "stream",
     "text": [
      "p= 1000\n",
      "i= 8\n",
      "t= 20\n",
      "Duration= 1.1250000000000004\n"
     ]
    }
   ],
   "source": [
    "p=int(input(\"p= \")) #p為本金\n",
    "i=float(input(\"i= \")) #i是殖利率\n",
    "t=int(input(\"t= \")) #t是時間\n",
    "sum=1\n",
    "z=0\n",
    "\n",
    "while sum<=t:\n",
    "    x=sum*p*i/(p*((1+i)**sum))     # x=W_t\n",
    "    sum=sum+1\n",
    "    z += x\n",
    "    \n",
    "D=z+t/((1+i)**t)\n",
    "print(\"Duration=\",D)"
   ]
  },
  {
   "cell_type": "code",
   "execution_count": null,
   "metadata": {},
   "outputs": [],
   "source": []
  }
 ],
 "metadata": {
  "kernelspec": {
   "display_name": "Python 3",
   "language": "python",
   "name": "python3"
  },
  "language_info": {
   "codemirror_mode": {
    "name": "ipython",
    "version": 3
   },
   "file_extension": ".py",
   "mimetype": "text/x-python",
   "name": "python",
   "nbconvert_exporter": "python",
   "pygments_lexer": "ipython3",
   "version": "3.7.4"
  }
 },
 "nbformat": 4,
 "nbformat_minor": 2
}
