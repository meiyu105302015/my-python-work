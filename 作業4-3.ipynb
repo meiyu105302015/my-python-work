{
 "cells": [
  {
   "cell_type": "markdown",
   "metadata": {},
   "source": [
    "## 隨機選甜點"
   ]
  },
  {
   "cell_type": "code",
   "execution_count": 4,
   "metadata": {},
   "outputs": [
    {
     "name": "stdout",
     "output_type": "stream",
     "text": [
      "今天要吃哪樣甜點呢\n",
      "重乳酪蛋糕\n"
     ]
    }
   ],
   "source": [
    "import numpy as np\n",
    "from random import choice\n",
    "L=[\"巧克力布郎尼\",\"重乳酪蛋糕\",\"水果塔\",\"生乳捲\",\n",
    "      \"焦糖布丁\",\"抹茶千層蛋糕\",\"鬆餅\",\"蜂蜜蛋糕\",\"葡式蛋塔\",\n",
    "      \"烤布蕾\",\"提拉米蘇\",\"波士頓派\",\"草莓蛋糕\",\"乳酪司康餅\"]\n",
    "print(\"今天要吃哪樣甜點呢\")\n",
    "print(choice(L))"
   ]
  },
  {
   "cell_type": "code",
   "execution_count": null,
   "metadata": {
    "collapsed": true
   },
   "outputs": [],
   "source": []
  }
 ],
 "metadata": {
  "kernelspec": {
   "display_name": "Python 3",
   "language": "python",
   "name": "python3"
  },
  "language_info": {
   "codemirror_mode": {
    "name": "ipython",
    "version": 3
   },
   "file_extension": ".py",
   "mimetype": "text/x-python",
   "name": "python",
   "nbconvert_exporter": "python",
   "pygments_lexer": "ipython3",
   "version": "3.6.2"
  }
 },
 "nbformat": 4,
 "nbformat_minor": 2
}
