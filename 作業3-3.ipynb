{
 "cells": [
  {
   "cell_type": "markdown",
   "metadata": {},
   "source": [
    "## 網路購物\n",
    "任選相同兩件商品9折，三件商品85折，便利商店取件60元，購物滿900免運"
   ]
  },
  {
   "cell_type": "code",
   "execution_count": 3,
   "metadata": {},
   "outputs": [
    {
     "name": "stdout",
     "output_type": "stream",
     "text": [
      "商品價格:600\n",
      "購買件數:3\n",
      "折扣後總金額: 1530.0 元\n"
     ]
    }
   ],
   "source": [
    "a=input(\"商品價格:\")\n",
    "b=input(\"購買件數:\")\n",
    "a=int(a)\n",
    "b=int(b)\n",
    "\n",
    "if b>=3 and ((a*b)>=900):\n",
    "    print(\"折扣後總金額:\",a*b*0.85,\"元\")\n",
    "elif b>=3 and ((a*b)<900):\n",
    "    print(\"折扣後總金額:\",a*b*0.85+60,\"元\")\n",
    "elif b==2 and ((a*b)>=900):\n",
    "    print(\"折扣後總金額:\",a*b*0.9,\"元\")\n",
    "elif b==2 and ((a*b)<900):\n",
    "    print(\"折扣後總金額:\",a*b*0.9+60,\"元\")\n",
    "elif b<2 and ((a*b)>=900):\n",
    "    print(\"折扣後總金額:\",a*b,\"元\")\n",
    "else:\n",
    "    print(\"折扣後總金額:\",a*b+60,\"元\")"
   ]
  },
  {
   "cell_type": "code",
   "execution_count": null,
   "metadata": {
    "collapsed": true
   },
   "outputs": [],
   "source": []
  }
 ],
 "metadata": {
  "kernelspec": {
   "display_name": "Python 3",
   "language": "python",
   "name": "python3"
  },
  "language_info": {
   "codemirror_mode": {
    "name": "ipython",
    "version": 3
   },
   "file_extension": ".py",
   "mimetype": "text/x-python",
   "name": "python",
   "nbconvert_exporter": "python",
   "pygments_lexer": "ipython3",
   "version": "3.6.2"
  }
 },
 "nbformat": 4,
 "nbformat_minor": 2
}
