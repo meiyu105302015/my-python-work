{
 "cells": [
  {
   "cell_type": "markdown",
   "metadata": {},
   "source": [
    "## 計算存續期間 (Duration)"
   ]
  },
  {
   "cell_type": "code",
   "execution_count": 1,
   "metadata": {
    "collapsed": true
   },
   "outputs": [],
   "source": [
    "%matplotlib inline\n",
    "\n",
    "import numpy as np\n",
    "import matplotlib.pyplot as plt\n",
    "import pandas as pd"
   ]
  },
  {
   "cell_type": "code",
   "execution_count": 5,
   "metadata": {},
   "outputs": [
    {
     "name": "stdout",
     "output_type": "stream",
     "text": [
      "p= 700\n",
      "i= 0.14\n",
      "t= 3\n",
      "Duration= 2.6466605109264387\n"
     ]
    }
   ],
   "source": [
    "p=int(input(\"p= \")) #p為本金\n",
    "i=float(input(\"i= \")) #i是利率\n",
    "t=int(input(\"t= \")) #t是時間\n",
    "sum=1\n",
    "z=0\n",
    "\n",
    "while sum<=t:\n",
    "    x=sum*p*i/(p*((1+i)**sum))\n",
    "    sum=sum+1\n",
    "    z += x\n",
    "    \n",
    "D=z+t/((1+i)**t)\n",
    "print(\"Duration=\",D)"
   ]
  },
  {
   "cell_type": "code",
   "execution_count": null,
   "metadata": {
    "collapsed": true
   },
   "outputs": [],
   "source": []
  }
 ],
 "metadata": {
  "kernelspec": {
   "display_name": "Python 3",
   "language": "python",
   "name": "python3"
  },
  "language_info": {
   "codemirror_mode": {
    "name": "ipython",
    "version": 3
   },
   "file_extension": ".py",
   "mimetype": "text/x-python",
   "name": "python",
   "nbconvert_exporter": "python",
   "pygments_lexer": "ipython3",
   "version": "3.6.2"
  }
 },
 "nbformat": 4,
 "nbformat_minor": 2
}
