{
 "cells": [
  {
   "cell_type": "markdown",
   "metadata": {},
   "source": [
    "## 10點半"
   ]
  },
  {
   "cell_type": "code",
   "execution_count": 1,
   "metadata": {
    "collapsed": true
   },
   "outputs": [],
   "source": [
    "%matplotlib inline\n",
    "\n",
    "import numpy as np\n",
    "import matplotlib.pyplot as plt\n",
    "import pandas as pd\n",
    "import random"
   ]
  },
  {
   "cell_type": "code",
   "execution_count": 2,
   "metadata": {
    "collapsed": true
   },
   "outputs": [],
   "source": [
    "class Card:    \n",
    "    \n",
    "    SUITS=[\"♠\",\"♥\",\"♣\",\"♦\"]\n",
    "    RANKS=[\"A\",\"2\",\"3\",\"4\",\"5\",\"6\",\"7\",\"8\",\"9\",\"10\",\"J\",\"Q\",\"K\"]\n",
    "    \n",
    "    def __init__(self,s,r):\n",
    "        self.suit=s\n",
    "        self.rank=r\n",
    "        \n",
    "    def __repr__(self):     \n",
    "        thecard=self.SUITS[self.suit]+self.RANKS[self.rank]  \n",
    "        return thecard"
   ]
  },
  {
   "cell_type": "code",
   "execution_count": 5,
   "metadata": {},
   "outputs": [
    {
     "name": "stdout",
     "output_type": "stream",
     "text": [
      "要不要牌？要!\n",
      "抽出的牌是♦8 總分為8\n",
      "要不要牌？不了!!\n",
      "總分為8\n"
     ]
    }
   ],
   "source": [
    "sum=0\n",
    "\n",
    "while sum >=0:\n",
    "    if 0<=sum<=10.5:\n",
    "        x=input(\"要不要牌？\")\n",
    "        if \"要\" in x:\n",
    "            a=random.randint(0,3)\n",
    "            b=random.randint(0,12)\n",
    "            card=Card(a,b)\n",
    "            if b in [10,11,12]:\n",
    "                sum += 0.5\n",
    "                print(\"抽出的牌是\"+str(Card(a,b))+\" 總分為\"+str(sum))\n",
    "            elif b == 0:\n",
    "                sum += 1\n",
    "                print(\"抽出的牌是\"+str(Card(a,b))+\" 總分為\"+str(sum))\n",
    "            else:\n",
    "                number = int(b)\n",
    "                sum += (number+1)\n",
    "                print(\"抽出的牌是\"+str(Card(a,b))+\" 總分為\"+str(sum))\n",
    "        elif \"不\" in x:\n",
    "            print(\"總分為\"+str(sum))\n",
    "            break\n",
    "    else:\n",
    "        print(\"爆了!!\")\n",
    "        break"
   ]
  },
  {
   "cell_type": "code",
   "execution_count": null,
   "metadata": {
    "collapsed": true
   },
   "outputs": [],
   "source": []
  }
 ],
 "metadata": {
  "kernelspec": {
   "display_name": "Python 3",
   "language": "python",
   "name": "python3"
  },
  "language_info": {
   "codemirror_mode": {
    "name": "ipython",
    "version": 3
   },
   "file_extension": ".py",
   "mimetype": "text/x-python",
   "name": "python",
   "nbconvert_exporter": "python",
   "pygments_lexer": "ipython3",
   "version": "3.6.2"
  }
 },
 "nbformat": 4,
 "nbformat_minor": 2
}
